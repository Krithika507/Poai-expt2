{
  "nbformat": 4,
  "nbformat_minor": 0,
  "metadata": {
    "colab": {
      "provenance": [],
      "authorship_tag": "ABX9TyO01a5Wt+PLV/s3HhxwmQyx",
      "include_colab_link": true
    },
    "kernelspec": {
      "name": "python3",
      "display_name": "Python 3"
    },
    "language_info": {
      "name": "python"
    }
  },
  "cells": [
    {
      "cell_type": "markdown",
      "metadata": {
        "id": "view-in-github",
        "colab_type": "text"
      },
      "source": [
        "<a href=\"https://colab.research.google.com/github/Krithika507/Poai-expt2/blob/main/Expt2.ipynb\" target=\"_parent\"><img src=\"https://colab.research.google.com/assets/colab-badge.svg\" alt=\"Open In Colab\"/></a>"
      ]
    },
    {
      "cell_type": "code",
      "execution_count": 1,
      "metadata": {
        "colab": {
          "base_uri": "https://localhost:8080/"
        },
        "id": "GY61fImOop-O",
        "outputId": "bc9b1d73-842a-4eeb-94a5-c75fca7745ff"
      },
      "outputs": [
        {
          "output_type": "stream",
          "name": "stdout",
          "text": [
            "DFS starting from node 'A':\n",
            "A\n",
            "B\n",
            "D\n",
            "E\n",
            "F\n",
            "C\n"
          ]
        }
      ],
      "source": [
        "# prompt: dfs in python\n",
        "\n",
        "def dfs(graph, start_node):\n",
        "  visited = set()\n",
        "  stack = [start_node]\n",
        "\n",
        "  while stack:\n",
        "    node = stack.pop()\n",
        "    if node not in visited:\n",
        "      print(node)  # Process the node\n",
        "      visited.add(node)\n",
        "      # Add neighbors to the stack in reverse order to explore them in a specific order\n",
        "      # For general DFS, any order is fine. Here we assume a sorted order for consistency.\n",
        "      if node in graph:\n",
        "        for neighbor in sorted(graph[node], reverse=True):\n",
        "          if neighbor not in visited:\n",
        "            stack.append(neighbor)\n",
        "\n",
        "# Example Usage:\n",
        "graph = {\n",
        "    'A': ['B', 'C'],\n",
        "    'B': ['D', 'E'],\n",
        "    'C': ['F'],\n",
        "    'D': [],\n",
        "    'E': ['F'],\n",
        "    'F': []\n",
        "}\n",
        "\n",
        "print(\"DFS starting from node 'A':\")\n",
        "dfs(graph, 'A')\n"
      ]
    }
  ]
}